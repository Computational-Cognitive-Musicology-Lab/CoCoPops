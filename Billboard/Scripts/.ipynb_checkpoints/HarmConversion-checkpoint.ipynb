{
 "cells": [
  {
   "cell_type": "code",
   "execution_count": 2,
   "id": "touched-satellite",
   "metadata": {},
   "outputs": [],
   "source": [
    "import pandas as pd\n",
    "import os\n",
    "from collections import defaultdict\n",
    "import numpy as np\n",
    "import re"
   ]
  },
  {
   "cell_type": "code",
   "execution_count": 3,
   "id": "universal-release",
   "metadata": {},
   "outputs": [],
   "source": [
    "def def_value(): \n",
    "    return 0\n",
    "\n",
    "\n",
    "def calc_interval(bottom, top):\n",
    "    \n",
    "    notes = {\n",
    "        \"C\":0,\n",
    "        \"D\":1,\n",
    "        \"E\":2,\n",
    "        \"F\":3,\n",
    "        \"G\":4,\n",
    "        \"A\":5,\n",
    "        \"B\":6\n",
    "    }\n",
    "\n",
    "    clockVals = {\n",
    "        \"C\": 0,\n",
    "        \"D\": 2,\n",
    "        \"E\": 4,\n",
    "        \"F\": 5,\n",
    "        \"G\": 7,\n",
    "        \"A\": 9,\n",
    "        \"B\": 11\n",
    "    }\n",
    "\n",
    "    intervalToClock = [0, 2, 4, 5, 7, 9, 11]\n",
    "\n",
    "    accidentals = defaultdict(def_value)\n",
    "    accidentals[\"--\"] = -2\n",
    "    accidentals[\"-\"] = -1\n",
    "    accidentals[\"#\"] =  1\n",
    "    accidentals[\"##\"] = 2    \n",
    "\n",
    "    bottomNote = re.match(\"[A-G]\", bottom).group()\n",
    "    topNote = re.match(\"([A-G])\", top).group()\n",
    "    bAccMatch = re.search(\"[-#]+\", bottom)\n",
    "    tAccMatch = re.search(\"[-#]+\", top)\n",
    "    \n",
    "\n",
    "    bottomAcc = bAccMatch.group() if bAccMatch else \" \"\n",
    "    topAcc = tAccMatch.group() if tAccMatch else \" \"\n",
    "\n",
    "    bottomInd = notes[bottomNote]\n",
    "    topInd = notes[topNote]\n",
    "    noteInterval = (topInd - bottomInd) % 7 + 1\n",
    "\n",
    "    bottomClock = clockVals[bottomNote] + accidentals[bottomAcc];\n",
    "    topClock = clockVals[topNote] + accidentals[topAcc];\n",
    "    clockValue = topClock - bottomClock;\n",
    "\n",
    "    if clockValue < 0:\n",
    "        clockValue += 12\n",
    "\n",
    "    noteToClock = intervalToClock[noteInterval - 1];\n",
    "    diff = clockValue - noteToClock;\n",
    "\n",
    "    #The most we'd expect to have to alter an interval is by 6 semitones;\n",
    "    # otherwise, something is wrong.\n",
    "    if abs(diff) > 6:\n",
    "        if diff > 0:\n",
    "            diff -= 12\n",
    "        else:\n",
    "            diff += 12\n",
    "\n",
    "    ss = \"\";\n",
    "    if diff > 0:\n",
    "        ss = \"#\"*diff\n",
    "    elif diff < 0:\n",
    "        ss = \"b\" * (-1*diff)\n",
    "        \n",
    "    return ss + str(noteInterval)"
   ]
  },
  {
   "cell_type": "code",
   "execution_count": 4,
   "id": "convertible-toolbox",
   "metadata": {},
   "outputs": [
    {
     "data": {
      "text/plain": [
       "'bbbb5'"
      ]
     },
     "execution_count": 4,
     "metadata": {},
     "output_type": "execute_result"
    }
   ],
   "source": [
    "calc_interval(\"C##\", \"G--\")"
   ]
  },
  {
   "cell_type": "code",
   "execution_count": 10,
   "id": "79ccedc7",
   "metadata": {},
   "outputs": [],
   "source": [
    "os.chdir(\"../Humdrum/CompleteTranscriptions/\")"
   ]
  },
  {
   "cell_type": "code",
   "execution_count": 11,
   "id": "electrical-charlotte",
   "metadata": {
    "scrolled": false
   },
   "outputs": [],
   "source": [
    "# os.chdir(\"../Humdrum/CompleteTranscriptions/Originals/\")\n",
    "files = os.listdir()"
   ]
  },
  {
   "cell_type": "code",
   "execution_count": 12,
   "id": "technological-colleague",
   "metadata": {},
   "outputs": [
    {
     "ename": "NameError",
     "evalue": "name 'file0' is not defined",
     "output_type": "error",
     "traceback": [
      "\u001b[0;31m---------------------------------------------------------------------------\u001b[0m",
      "\u001b[0;31mNameError\u001b[0m                                 Traceback (most recent call last)",
      "\u001b[0;32m<ipython-input-12-efdd76878072>\u001b[0m in \u001b[0;36m<module>\u001b[0;34m\u001b[0m\n\u001b[0;32m----> 1\u001b[0;31m \u001b[0mfile0\u001b[0m\u001b[0;34m.\u001b[0m\u001b[0mhead\u001b[0m\u001b[0;34m(\u001b[0m\u001b[0;36m10\u001b[0m\u001b[0;34m)\u001b[0m\u001b[0;34m\u001b[0m\u001b[0;34m\u001b[0m\u001b[0m\n\u001b[0m",
      "\u001b[0;31mNameError\u001b[0m: name 'file0' is not defined"
     ]
    }
   ],
   "source": [
    "files[].head(10)"
   ]
  },
  {
   "cell_type": "code",
   "execution_count": 363,
   "id": "given-august",
   "metadata": {
    "scrolled": false
   },
   "outputs": [],
   "source": [
    "files = os.listdir()"
   ]
  },
  {
   "cell_type": "code",
   "execution_count": null,
   "id": "impossible-memorabilia",
   "metadata": {},
   "outputs": [],
   "source": [
    "os.chdir(\"../\")"
   ]
  },
  {
   "cell_type": "code",
   "execution_count": 391,
   "id": "another-brief",
   "metadata": {},
   "outputs": [
    {
     "data": {
      "text/plain": [
       "'/Users/johnmcnamara/Documents/GitHub/CoCoPops-Billboard/Humdrum/Originals'"
      ]
     },
     "execution_count": 391,
     "metadata": {},
     "output_type": "execute_result"
    }
   ],
   "source": [
    "os.getcwd()"
   ]
  },
  {
   "cell_type": "code",
   "execution_count": 400,
   "id": "concrete-customer",
   "metadata": {
    "scrolled": true
   },
   "outputs": [],
   "source": [
    "def createHarte(humFile):\n",
    "\n",
    "    df = pd.read_csv(humFile, sep = \"\\t\")\n",
    "    chordsym = df[\"**chordsym\"].copy()\n",
    "    harmony = df[\"**harmony\"].copy()\n",
    "    df[\"**harte\"] = chordsym\n",
    "    matches = chordsym.str.extractall(r'([A-G][-#]?)').dropna()\n",
    "    match_indicies = list(set([matches.index[i][0] for i in range(len(matches.index))]))\n",
    "    match_indicies.sort()\n",
    "    proto_harte = chordsym.str.extract(\"([A-G][-#]?:?\\w*\\(?[^A-G ]*\\)?)\").dropna()\n",
    "    for i in match_indicies:\n",
    "        notes = matches.loc[i][0]\n",
    "        if len(notes) > 1:\n",
    "            bass_interval = calc_interval(notes[0], notes[1])\n",
    "            bass_interval = \"\" if bass_interval == \"1\" else \"/\" + bass_interval\n",
    "            proto_harte.loc[i][0] =  proto_harte.loc[i][0] + bass_interval\n",
    "\n",
    "    for i in proto_harte.index[1:]:\n",
    "        chordsym.loc[i] = proto_harte.loc[i][0]\n",
    "\n",
    "    df[\"**harte\"] = chordsym\n",
    "#     df.to_csv(\"../Harte/\"+humFile, sep=\"\\t\")\n",
    "    return df"
   ]
  },
  {
   "cell_type": "code",
   "execution_count": 401,
   "id": "adjustable-shell",
   "metadata": {},
   "outputs": [
    {
     "data": {
      "text/html": [
       "<div>\n",
       "<style scoped>\n",
       "    .dataframe tbody tr th:only-of-type {\n",
       "        vertical-align: middle;\n",
       "    }\n",
       "\n",
       "    .dataframe tbody tr th {\n",
       "        vertical-align: top;\n",
       "    }\n",
       "\n",
       "    .dataframe thead th {\n",
       "        text-align: right;\n",
       "    }\n",
       "</style>\n",
       "<table border=\"1\" class=\"dataframe\">\n",
       "  <thead>\n",
       "    <tr style=\"text-align: right;\">\n",
       "      <th></th>\n",
       "      <th>**kern</th>\n",
       "      <th>**silbe</th>\n",
       "      <th>**harmony</th>\n",
       "      <th>**chordsym</th>\n",
       "      <th>**phrase</th>\n",
       "      <th>**timestamp</th>\n",
       "      <th>**leadinstrument</th>\n",
       "      <th>**harte</th>\n",
       "    </tr>\n",
       "  </thead>\n",
       "  <tbody>\n",
       "    <tr>\n",
       "      <th>0</th>\n",
       "      <td>*ICvox</td>\n",
       "      <td>*</td>\n",
       "      <td>*M4/4</td>\n",
       "      <td>*M4/4</td>\n",
       "      <td>*</td>\n",
       "      <td>*</td>\n",
       "      <td>*</td>\n",
       "      <td>*M4/4</td>\n",
       "    </tr>\n",
       "    <tr>\n",
       "      <th>1</th>\n",
       "      <td>*D:</td>\n",
       "      <td>*</td>\n",
       "      <td>*D:</td>\n",
       "      <td>*D:</td>\n",
       "      <td>*</td>\n",
       "      <td>*</td>\n",
       "      <td>*</td>\n",
       "      <td>*D:</td>\n",
       "    </tr>\n",
       "    <tr>\n",
       "      <th>2</th>\n",
       "      <td>*M4/4</td>\n",
       "      <td>*</td>\n",
       "      <td>*</td>\n",
       "      <td>*</td>\n",
       "      <td>*</td>\n",
       "      <td>*</td>\n",
       "      <td>*</td>\n",
       "      <td>*</td>\n",
       "    </tr>\n",
       "    <tr>\n",
       "      <th>3</th>\n",
       "      <td>*clefC3</td>\n",
       "      <td>*</td>\n",
       "      <td>*</td>\n",
       "      <td>*</td>\n",
       "      <td>*</td>\n",
       "      <td>*</td>\n",
       "      <td>*</td>\n",
       "      <td>*</td>\n",
       "    </tr>\n",
       "    <tr>\n",
       "      <th>4</th>\n",
       "      <td>1r;</td>\n",
       "      <td>.</td>\n",
       "      <td>1r;</td>\n",
       "      <td>1r</td>\n",
       "      <td>.</td>\n",
       "      <td>0</td>\n",
       "      <td>1r</td>\n",
       "      <td>1r</td>\n",
       "    </tr>\n",
       "    <tr>\n",
       "      <th>...</th>\n",
       "      <td>...</td>\n",
       "      <td>...</td>\n",
       "      <td>...</td>\n",
       "      <td>...</td>\n",
       "      <td>...</td>\n",
       "      <td>...</td>\n",
       "      <td>...</td>\n",
       "      <td>...</td>\n",
       "    </tr>\n",
       "    <tr>\n",
       "      <th>729</th>\n",
       "      <td>!!!RDF**timestamp: McGill audio timestamp in s...</td>\n",
       "      <td>NaN</td>\n",
       "      <td>NaN</td>\n",
       "      <td>NaN</td>\n",
       "      <td>NaN</td>\n",
       "      <td>NaN</td>\n",
       "      <td>NaN</td>\n",
       "      <td>NaN</td>\n",
       "    </tr>\n",
       "    <tr>\n",
       "      <th>730</th>\n",
       "      <td>!!!RDT: 2017/01/12/</td>\n",
       "      <td>NaN</td>\n",
       "      <td>NaN</td>\n",
       "      <td>NaN</td>\n",
       "      <td>NaN</td>\n",
       "      <td>NaN</td>\n",
       "      <td>NaN</td>\n",
       "      <td>NaN</td>\n",
       "    </tr>\n",
       "    <tr>\n",
       "      <th>731</th>\n",
       "      <td>!!!SampleActualRank: 85, 56</td>\n",
       "      <td>NaN</td>\n",
       "      <td>NaN</td>\n",
       "      <td>NaN</td>\n",
       "      <td>NaN</td>\n",
       "      <td>NaN</td>\n",
       "      <td>NaN</td>\n",
       "      <td>NaN</td>\n",
       "    </tr>\n",
       "    <tr>\n",
       "      <th>732</th>\n",
       "      <td>!!!SampleID#: 647, 709</td>\n",
       "      <td>NaN</td>\n",
       "      <td>NaN</td>\n",
       "      <td>NaN</td>\n",
       "      <td>NaN</td>\n",
       "      <td>NaN</td>\n",
       "      <td>NaN</td>\n",
       "      <td>NaN</td>\n",
       "    </tr>\n",
       "    <tr>\n",
       "      <th>733</th>\n",
       "      <td>!!!SampleTargetRank: 85, 56</td>\n",
       "      <td>NaN</td>\n",
       "      <td>NaN</td>\n",
       "      <td>NaN</td>\n",
       "      <td>NaN</td>\n",
       "      <td>NaN</td>\n",
       "      <td>NaN</td>\n",
       "      <td>NaN</td>\n",
       "    </tr>\n",
       "  </tbody>\n",
       "</table>\n",
       "<p>734 rows × 8 columns</p>\n",
       "</div>"
      ],
      "text/plain": [
       "                                                **kern **silbe **harmony  \\\n",
       "0                                               *ICvox       *     *M4/4   \n",
       "1                                                  *D:       *       *D:   \n",
       "2                                                *M4/4       *         *   \n",
       "3                                              *clefC3       *         *   \n",
       "4                                                  1r;       .       1r;   \n",
       "..                                                 ...     ...       ...   \n",
       "729  !!!RDF**timestamp: McGill audio timestamp in s...     NaN       NaN   \n",
       "730                                !!!RDT: 2017/01/12/     NaN       NaN   \n",
       "731                        !!!SampleActualRank: 85, 56     NaN       NaN   \n",
       "732                             !!!SampleID#: 647, 709     NaN       NaN   \n",
       "733                        !!!SampleTargetRank: 85, 56     NaN       NaN   \n",
       "\n",
       "    **chordsym **phrase **timestamp **leadinstrument **harte  \n",
       "0        *M4/4        *           *                *   *M4/4  \n",
       "1          *D:        *           *                *     *D:  \n",
       "2            *        *           *                *       *  \n",
       "3            *        *           *                *       *  \n",
       "4           1r        .           0               1r      1r  \n",
       "..         ...      ...         ...              ...     ...  \n",
       "729        NaN      NaN         NaN              NaN     NaN  \n",
       "730        NaN      NaN         NaN              NaN     NaN  \n",
       "731        NaN      NaN         NaN              NaN     NaN  \n",
       "732        NaN      NaN         NaN              NaN     NaN  \n",
       "733        NaN      NaN         NaN              NaN     NaN  \n",
       "\n",
       "[734 rows x 8 columns]"
      ]
     },
     "execution_count": 401,
     "metadata": {},
     "output_type": "execute_result"
    }
   ],
   "source": [
    "createHarte(\"./AnitaBaker_CaughtUpInTheRapture_1987.hum\")"
   ]
  },
  {
   "cell_type": "code",
   "execution_count": 406,
   "id": "decimal-complex",
   "metadata": {},
   "outputs": [],
   "source": [
    "for file in files:\n",
    "    createHarte(file)"
   ]
  },
  {
   "cell_type": "code",
   "execution_count": null,
   "id": "married-proof",
   "metadata": {},
   "outputs": [],
   "source": []
  }
 ],
 "metadata": {
  "kernelspec": {
   "display_name": "Python 3",
   "language": "python",
   "name": "python3"
  },
  "language_info": {
   "codemirror_mode": {
    "name": "ipython",
    "version": 3
   },
   "file_extension": ".py",
   "mimetype": "text/x-python",
   "name": "python",
   "nbconvert_exporter": "python",
   "pygments_lexer": "ipython3",
   "version": "3.8.8"
  }
 },
 "nbformat": 4,
 "nbformat_minor": 5
}
