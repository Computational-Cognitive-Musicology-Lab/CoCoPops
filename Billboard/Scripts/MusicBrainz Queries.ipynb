{
 "cells": [
  {
   "cell_type": "code",
   "execution_count": 1,
   "id": "4beb1959",
   "metadata": {},
   "outputs": [],
   "source": [
    "import numpy as np\n",
    "import requests\n",
    "import pandas as pd\n",
    "import scipy\n",
    "import json\n",
    "import urllib\n",
    "import os"
   ]
  },
  {
   "cell_type": "code",
   "execution_count": 2,
   "id": "93367076",
   "metadata": {},
   "outputs": [],
   "source": [
    "musicBrainzURL =  \"https://musicbrainz.org/ws/2/\"\n",
    "transcription_data = pd.read_csv(\"../BillboardTranscriptionData.tsv\", sep=\"\\t\")\n",
    "sample_data = pd.read_csv(\"../BillboardSampleData.tsv\", sep=\"\\t\")"
   ]
  },
  {
   "cell_type": "code",
   "execution_count": 53,
   "id": "equal-explorer",
   "metadata": {},
   "outputs": [],
   "source": [
    "path = \"../Humdrum/MelodicTranscriptions/\"\n",
    "ext = \".krn\"\n",
    "files = os.listdir(path)\n",
    "file_names = [os.path.splitext(file)[0] for file in files if os.path.splitext(file)[1] == ext]\n",
    "file_names.sort()"
   ]
  },
  {
   "cell_type": "code",
   "execution_count": 54,
   "id": "8a786b8a",
   "metadata": {},
   "outputs": [
    {
     "data": {
      "text/plain": [
       "214"
      ]
     },
     "execution_count": 54,
     "metadata": {},
     "output_type": "execute_result"
    }
   ],
   "source": [
    "len(file_names)"
   ]
  },
  {
   "cell_type": "code",
   "execution_count": 56,
   "id": "b5f854a6",
   "metadata": {},
   "outputs": [],
   "source": [
    "def lookup_metadata(track_name: str, artist_name: str, incs: str) -> dict:\n",
    "    \"\"\"Looks up the metadata for a listen using track name and artist name.\"\"\"\n",
    "    params = {\n",
    "        \"recording_name\": track_name,\n",
    "        \"artist_name\": artist_name,\n",
    "        \"type\": \"single\"\n",
    "    }\n",
    "    if incs:\n",
    "        params[\"metadata\"] = True\n",
    "        params[\"incs\"] = incs\n",
    "#         params[\"type\"] = \"release\"\n",
    "    response = requests.get(\n",
    "        url=\"https://api.listenbrainz.org/1/metadata/lookup/\",\n",
    "        params=params\n",
    "    )\n",
    "    response.raise_for_status()\n",
    "    return response.json()"
   ]
  },
  {
   "cell_type": "code",
   "execution_count": 57,
   "id": "electric-necessity",
   "metadata": {
    "scrolled": true
   },
   "outputs": [
    {
     "name": "stderr",
     "output_type": "stream",
     "text": [
      "<ipython-input-57-fb18fc6dbdc5>:2: SettingWithCopyWarning: \n",
      "A value is trying to be set on a copy of a slice from a DataFrame.\n",
      "Try using .loc[row_indexer,col_indexer] = value instead\n",
      "\n",
      "See the caveats in the documentation: https://pandas.pydata.org/pandas-docs/stable/user_guide/indexing.html#returning-a-view-versus-a-copy\n",
      "  lookups[\"mbid\"] = [lookup_metadata(title, artist, \"\").get(\"recording_mbid\") for title, artist in zip(lookups[\"TITLE\"], lookups[\"ARTIST\"])]\n"
     ]
    }
   ],
   "source": [
    "lookups = transcription_data[transcription_data[\"FileName\"].isin(file_names)]\n",
    "lookups[\"mbid\"] = [lookup_metadata(title, artist, \"\").get(\"recording_mbid\") for title, artist in zip(lookups[\"TITLE\"], lookups[\"ARTIST\"])]"
   ]
  },
  {
   "cell_type": "code",
   "execution_count": 58,
   "id": "e76fee7b",
   "metadata": {},
   "outputs": [
    {
     "data": {
      "text/plain": [
       "214"
      ]
     },
     "execution_count": 58,
     "metadata": {},
     "output_type": "execute_result"
    }
   ],
   "source": [
    "len(lookups)"
   ]
  },
  {
   "cell_type": "code",
   "execution_count": 59,
   "id": "bd8da54b",
   "metadata": {},
   "outputs": [],
   "source": [
    "for i in range(len(lookups)):\n",
    "    row = lookups.iloc[i]\n",
    "    humfile = open(path + row[\"FileName\"] + ext, \"a\")\n",
    "    humfile.write(\"!!!MBID: \"+str(row[\"mbid\"])+\"\\n\")\n",
    "    humfile.close()"
   ]
  },
  {
   "cell_type": "code",
   "execution_count": null,
   "id": "4af7a820",
   "metadata": {},
   "outputs": [],
   "source": []
  }
 ],
 "metadata": {
  "kernelspec": {
   "display_name": "Python 3",
   "language": "python",
   "name": "python3"
  },
  "language_info": {
   "codemirror_mode": {
    "name": "ipython",
    "version": 3
   },
   "file_extension": ".py",
   "mimetype": "text/x-python",
   "name": "python",
   "nbconvert_exporter": "python",
   "pygments_lexer": "ipython3",
   "version": "3.8.8"
  }
 },
 "nbformat": 4,
 "nbformat_minor": 5
}
