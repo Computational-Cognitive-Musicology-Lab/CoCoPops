{
 "cells": [
  {
   "cell_type": "code",
   "execution_count": 1,
   "id": "4beb1959",
   "metadata": {},
   "outputs": [],
   "source": [
    "import numpy as np\n",
    "import requests\n",
    "import pandas as pd\n",
    "import scipy\n",
    "import json\n",
    "import urllib\n",
    "import os"
   ]
  },
  {
   "cell_type": "code",
   "execution_count": 2,
   "id": "93367076",
   "metadata": {},
   "outputs": [],
   "source": [
    "musicBrainzURL =  \"https://musicbrainz.org/ws/2/\"\n",
    "transcription_data = pd.read_csv(\"../BillboardTranscriptionData.tsv\", sep=\"\\t\")\n",
    "sample_data = pd.read_csv(\"../BillboardSampleData.tsv\", sep=\"\\t\")"
   ]
  },
  {
   "cell_type": "code",
   "execution_count": 19,
   "id": "equal-explorer",
   "metadata": {},
   "outputs": [],
   "source": [
    "path = \"../Humdrum/CompleteTranscriptions/\"\n",
    "files = os.listdir(path)\n",
    "file_names = [os.path.splitext(file)[0] for file in files if os.path.splitext(file)[1] == \".hum\"]\n",
    "file_names.sort()"
   ]
  },
  {
   "cell_type": "code",
   "execution_count": 11,
   "id": "b5f854a6",
   "metadata": {},
   "outputs": [],
   "source": [
    "def lookup_metadata(track_name: str, artist_name: str, incs: str) -> dict:\n",
    "    \"\"\"Looks up the metadata for a listen using track name and artist name.\"\"\"\n",
    "    params = {\n",
    "        \"recording_name\": track_name,\n",
    "        \"artist_name\": artist_name,\n",
    "        \"type\": \"release\"\n",
    "    }\n",
    "    if incs:\n",
    "        params[\"metadata\"] = True\n",
    "        params[\"incs\"] = incs\n",
    "#         params[\"type\"] = \"release\"\n",
    "    response = requests.get(\n",
    "        url=\"https://api.listenbrainz.org/1/metadata/lookup/\",\n",
    "        params=params\n",
    "    )\n",
    "    response.raise_for_status()\n",
    "    return response.json()"
   ]
  },
  {
   "cell_type": "code",
   "execution_count": 13,
   "id": "electric-necessity",
   "metadata": {
    "scrolled": false
   },
   "outputs": [
    {
     "name": "stderr",
     "output_type": "stream",
     "text": [
      "<ipython-input-13-fb18fc6dbdc5>:2: SettingWithCopyWarning: \n",
      "A value is trying to be set on a copy of a slice from a DataFrame.\n",
      "Try using .loc[row_indexer,col_indexer] = value instead\n",
      "\n",
      "See the caveats in the documentation: https://pandas.pydata.org/pandas-docs/stable/user_guide/indexing.html#returning-a-view-versus-a-copy\n",
      "  lookups[\"mbid\"] = [lookup_metadata(title, artist, \"\").get(\"recording_mbid\") for title, artist in zip(lookups[\"TITLE\"], lookups[\"ARTIST\"])]\n"
     ]
    }
   ],
   "source": [
    "lookups = transcription_data[transcription_data[\"FileName\"].isin(file_names)]\n",
    "lookups[\"mbid\"] = [lookup_metadata(title, artist, \"\").get(\"recording_mbid\") for title, artist in zip(lookups[\"TITLE\"], lookups[\"ARTIST\"])]"
   ]
  },
  {
   "cell_type": "code",
   "execution_count": 21,
   "id": "22376070",
   "metadata": {},
   "outputs": [],
   "source": [
    "for i in range(len(lookups)):\n",
    "    row = lookups.iloc[i]\n",
    "    humfile = open(path + row[\"FileName\"] + \".hum\", \"a\")\n",
    "    humfile.write(\"!!!MBID: \"+str(row[\"mbid\"])+\"\\n\")\n",
    "    humfile.close()"
   ]
  },
  {
   "cell_type": "code",
   "execution_count": 50,
   "id": "70a45c0c",
   "metadata": {},
   "outputs": [],
   "source": [
    "sample_responses = [lookup_metadata(title, artist, \"\") for title, artist in zip(sample_data[\"TITLE\"], sample_data[\"ARTIST\"])]"
   ]
  }
 ],
 "metadata": {
  "kernelspec": {
   "display_name": "Python 3",
   "language": "python",
   "name": "python3"
  },
  "language_info": {
   "codemirror_mode": {
    "name": "ipython",
    "version": 3
   },
   "file_extension": ".py",
   "mimetype": "text/x-python",
   "name": "python",
   "nbconvert_exporter": "python",
   "pygments_lexer": "ipython3",
   "version": "3.8.8"
  }
 },
 "nbformat": 4,
 "nbformat_minor": 5
}
