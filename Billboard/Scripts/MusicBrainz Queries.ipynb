{
 "cells": [
  {
   "cell_type": "code",
   "execution_count": 1,
   "id": "4beb1959",
   "metadata": {},
   "outputs": [],
   "source": [
    "import numpy as np\n",
    "import requests\n",
    "import pandas as pd\n",
    "import scipy\n",
    "import json\n",
    "import urllib\n",
    "import os"
   ]
  },
  {
   "cell_type": "code",
   "execution_count": 2,
   "id": "93367076",
   "metadata": {},
   "outputs": [],
   "source": [
    "musicBrainzURL =  \"https://musicbrainz.org/ws/2/\"\n",
    "transcription_data = pd.read_csv(\"../BillboardTranscriptionData.tsv\", sep=\"\\t\")\n",
    "sample_data = pd.read_csv(\"../BillboardSampleData.tsv\", sep=\"\\t\")"
   ]
  },
  {
   "cell_type": "code",
   "execution_count": 40,
   "id": "equal-explorer",
   "metadata": {},
   "outputs": [],
   "source": [
    "path = \"../Humdrum/HarmonicTranscriptions/Edited/\"\n",
    "ext = \".hum\"\n",
    "files = os.listdir(path)\n",
    "file_names = [os.path.splitext(file)[0] for file in files if os.path.splitext(file)[1] == ext]\n",
    "file_names.sort()"
   ]
  },
  {
   "cell_type": "code",
   "execution_count": 41,
   "id": "679b38e6",
   "metadata": {},
   "outputs": [
    {
     "data": {
      "text/plain": [
       "739"
      ]
     },
     "execution_count": 41,
     "metadata": {},
     "output_type": "execute_result"
    }
   ],
   "source": [
    "len(file_names)"
   ]
  },
  {
   "cell_type": "code",
   "execution_count": 36,
   "id": "b5f854a6",
   "metadata": {},
   "outputs": [],
   "source": [
    "def lookup_metadata(track_name: str, artist_name: str, incs: str) -> dict:\n",
    "    \"\"\"Looks up the metadata for a listen using track name and artist name.\"\"\"\n",
    "    params = {\n",
    "        \"recording_name\": track_name,\n",
    "        \"artist_name\": artist_name,\n",
    "        \"type\": \"single\"\n",
    "    }\n",
    "    if incs:\n",
    "        params[\"metadata\"] = True\n",
    "        params[\"incs\"] = incs\n",
    "#         params[\"type\"] = \"release\"\n",
    "    response = requests.get(\n",
    "        url=\"https://api.listenbrainz.org/1/metadata/lookup/\",\n",
    "        params=params\n",
    "    )\n",
    "    response.raise_for_status()\n",
    "    return response.json()"
   ]
  },
  {
   "cell_type": "code",
   "execution_count": 38,
   "id": "3a724209",
   "metadata": {},
   "outputs": [
    {
     "data": {
      "text/plain": [
       "739"
      ]
     },
     "execution_count": 38,
     "metadata": {},
     "output_type": "execute_result"
    }
   ],
   "source": [
    "len(lookups)"
   ]
  },
  {
   "cell_type": "code",
   "execution_count": 37,
   "id": "electric-necessity",
   "metadata": {
    "scrolled": true
   },
   "outputs": [],
   "source": [
    "lookups = transcription_data[transcription_data[\"FileName\"].isin(file_names)]\n",
    "lookups[\"mbid\"] = [lookup_metadata(title, artist, \"\").get(\"recording_mbid\") for title, artist in zip(lookups[\"TITLE\"], lookups[\"ARTIST\"])]"
   ]
  },
  {
   "cell_type": "code",
   "execution_count": 39,
   "id": "1f3a3fa8",
   "metadata": {},
   "outputs": [],
   "source": [
    "for i in range(len(lookups)):\n",
    "    row = lookups.iloc[i]\n",
    "    humfile = open(path + row[\"FileName\"] + \".hum\", \"a\")\n",
    "    humfile.write(\"!!!MBID: \"+str(row[\"mbid\"])+\"\\n\")\n",
    "    humfile.close()"
   ]
  },
  {
   "cell_type": "code",
   "execution_count": null,
   "id": "878b62a7",
   "metadata": {},
   "outputs": [],
   "source": []
  }
 ],
 "metadata": {
  "kernelspec": {
   "display_name": "Python 3",
   "language": "python",
   "name": "python3"
  },
  "language_info": {
   "codemirror_mode": {
    "name": "ipython",
    "version": 3
   },
   "file_extension": ".py",
   "mimetype": "text/x-python",
   "name": "python",
   "nbconvert_exporter": "python",
   "pygments_lexer": "ipython3",
   "version": "3.8.8"
  }
 },
 "nbformat": 4,
 "nbformat_minor": 5
}
